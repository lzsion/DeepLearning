{
 "cells": [
  {
   "cell_type": "markdown",
   "metadata": {},
   "source": [
    "# ***课程4_第1周_测验题***"
   ]
  },
  {
   "cell_type": "markdown",
   "metadata": {},
   "source": [
    "# 第一题"
   ]
  },
  {
   "cell_type": "markdown",
   "metadata": {},
   "source": [
    "1.你认为把下面这个过滤器应用到灰度图像会怎么样？\n",
    "\n",
    "$$\\begin{bmatrix}  \n",
    "0 & 1 & -1 & 0\\\\   \n",
    "1 & 3 & -3 & -1\\\\   \n",
    "1 & 3 & -3 & -1\\\\   \n",
    "0 & 1 & -1 & 0  \n",
    "\\end{bmatrix}\n",
    "$$\n",
    "\n",
    "A. 【  】会检测45度边缘\n",
    "\n",
    "B. 【  】会检测垂直边缘\n",
    "\n",
    "C. 【  】会检测水平边缘\n",
    "\n",
    "D. 【  】会检测图像对比度"
   ]
  },
  {
   "cell_type": "markdown",
   "metadata": {},
   "source": [
    "答案：  \n",
    "\n",
    "B.【 √ 】会检测垂直边缘"
   ]
  },
  {
   "cell_type": "markdown",
   "metadata": {},
   "source": [
    "# 第二题"
   ]
  },
  {
   "cell_type": "markdown",
   "metadata": {},
   "source": [
    "2.假设你的输入是一个300×300的彩色（RGB）图像，而你没有使用卷积神经网络。 如果第一个隐藏层有100个神经元，每个神经元与输入层进行全连接，那么这个隐藏层有多少个参数（包括偏置参数）？\n",
    "\n",
    "A. 【  】9,000,001\n",
    "\n",
    "B. 【  】9,000,100\n",
    "\n",
    "C. 【  】27,000,001\n",
    "\n",
    "D. 【  】27,000,100"
   ]
  },
  {
   "cell_type": "markdown",
   "metadata": {},
   "source": [
    "答案：  \n",
    "\n",
    "D.【 √ 】27,000,100"
   ]
  },
  {
   "cell_type": "markdown",
   "metadata": {},
   "source": [
    "# 第三题"
   ]
  },
  {
   "cell_type": "markdown",
   "metadata": {},
   "source": [
    "3.假设你的输入是300×300彩色（RGB）图像，并且你使用卷积层和100个过滤器，每个过滤器都是5×5的大小，请问这个隐藏层有多少个参数（包括偏置参数）？\n",
    "\n",
    "A. 【  】2501\n",
    "\n",
    "B. 【  】2600\n",
    "\n",
    "C. 【  】7500\n",
    "\n",
    "D. 【  】7600"
   ]
  },
  {
   "cell_type": "markdown",
   "metadata": {},
   "source": [
    "答案：  \n",
    "\n",
    "D.【 √ 】2600"
   ]
  },
  {
   "cell_type": "markdown",
   "metadata": {},
   "source": [
    "# 第四题"
   ]
  },
  {
   "cell_type": "markdown",
   "metadata": {},
   "source": [
    "4.你有一个63x63x16的输入，并使用大小为7x7的32个过滤器进行卷积，使用步幅为2和无填充，请问输出是多少？\n",
    "\n",
    "A. 【  】29x29x32\n",
    "\n",
    "B. 【  】16x16x32\n",
    "\n",
    "C. 【  】29x29x16\n",
    "\n",
    "D. 【  】16x16x16"
   ]
  },
  {
   "cell_type": "markdown",
   "metadata": {},
   "source": [
    "答案：  \n",
    "\n",
    "A.【 √ 】29x29x32"
   ]
  },
  {
   "cell_type": "markdown",
   "metadata": {},
   "source": [
    "# 第五题"
   ]
  },
  {
   "cell_type": "markdown",
   "metadata": {},
   "source": [
    "5.你有一个15x15x8的输入，并使用“pad = 2”进行填充，填充后的尺寸是多少？\n",
    "\n",
    "A. 【  】17x17x10\n",
    "\n",
    "B. 【  】19x19x8\n",
    "\n",
    "C. 【  】19x19x12\n",
    "\n",
    "D. 【  】17x17x8"
   ]
  },
  {
   "cell_type": "markdown",
   "metadata": {},
   "source": [
    "答案：  \n",
    "\n",
    "B.【 √ 】19x19x8"
   ]
  },
  {
   "cell_type": "markdown",
   "metadata": {},
   "source": [
    "# 第六题"
   ]
  },
  {
   "cell_type": "markdown",
   "metadata": {},
   "source": [
    "6.你有一个63x63x16的输入，有32个过滤器进行卷积，每个过滤器的大小为7x7，步幅为1，你想要使用“same”的卷积方式，请问pad的值是多少？\n",
    "\n",
    "A. 【  】1\n",
    "\n",
    "B. 【  】2\n",
    "\n",
    "C. 【  】3\n",
    "\n",
    "D. 【  】7"
   ]
  },
  {
   "cell_type": "markdown",
   "metadata": {},
   "source": [
    "答案：  \n",
    "\n",
    "C.【 √ 】3"
   ]
  },
  {
   "cell_type": "markdown",
   "metadata": {},
   "source": [
    "# 第七题"
   ]
  },
  {
   "cell_type": "markdown",
   "metadata": {},
   "source": [
    "7.你有一个32x32x16的输入，并使用步幅为2、过滤器大小为2的最大化池，请问输出是多少？\n",
    "\n",
    "A. 【  】15x15x16\n",
    "\n",
    "B. 【  】16x16x8\n",
    "\n",
    "C. 【  】16x16x16\n",
    "\n",
    "D. 【  】32x32x8"
   ]
  },
  {
   "cell_type": "markdown",
   "metadata": {},
   "source": [
    "答案：  \n",
    "\n",
    "C.【 √ 】16x16x16"
   ]
  },
  {
   "cell_type": "markdown",
   "metadata": {},
   "source": [
    "# 第八题"
   ]
  },
  {
   "cell_type": "markdown",
   "metadata": {},
   "source": [
    "8.因为池化层不具有参数，所以它们不影响反向传播的计算。\n",
    "\n",
    "A. 【  】对\n",
    "\n",
    "B. 【  】不对"
   ]
  },
  {
   "cell_type": "markdown",
   "metadata": {},
   "source": [
    "答案：  \n",
    "\n",
    "B.【 √ 】不对"
   ]
  },
  {
   "cell_type": "markdown",
   "metadata": {},
   "source": [
    "# 第九题"
   ]
  },
  {
   "cell_type": "markdown",
   "metadata": {},
   "source": [
    "9.在视频中，我们谈到了“参数共享”是使用卷积网络的好处。关于参数共享的下列哪个陈述是正确的？（选出所有正确项）\n",
    "\n",
    "A. 【  】它减少了参数的总数，从而减少过拟合。\n",
    "\n",
    "B. 【  】它允许在整个输入值的多个位置使用特征检测器。\n",
    "\n",
    "C. 【  】它允许为一项任务学习的参数即使对于不同的任务也可以共享（迁移学习）。\n",
    "\n",
    "D. 【  】它允许梯度下降将许多参数设置为零，从而使得连接稀疏。"
   ]
  },
  {
   "cell_type": "markdown",
   "metadata": {},
   "source": [
    "答案：  \n",
    "\n",
    "A.【 √ 】它减少了参数的总数，从而减少过拟合。\n",
    "\n",
    "B.【 √ 】它允许在整个输入值的多个位置使用特征检测器。"
   ]
  },
  {
   "cell_type": "markdown",
   "metadata": {},
   "source": [
    "# 第十题"
   ]
  },
  {
   "cell_type": "markdown",
   "metadata": {},
   "source": [
    "10.在课堂上，我们讨论了“稀疏连接”是使用卷积层的好处。这是什么意思?\n",
    "\n",
    "A. 【  】正则化导致梯度下降将许多参数设置为零。\n",
    "\n",
    "B. 【  】每个过滤器都连接到上一层的每个通道。\n",
    "\n",
    "C. 【  】下一层中的每个激活只依赖于前一层的少量激活。\n",
    "\n",
    "D. 【  】卷积网络中的每一层只连接到另外两层。"
   ]
  },
  {
   "cell_type": "markdown",
   "metadata": {},
   "source": [
    "答案：  \n",
    "\n",
    "C.【 √ 】下一层中的每个激活只依赖于前一层的少量激活。"
   ]
  }
 ],
 "metadata": {
  "kernelspec": {
   "display_name": "Python 3.6.3",
   "language": "python",
   "name": "python3.6.3"
  },
  "language_info": {
   "codemirror_mode": {
    "name": "ipython",
    "version": 3
   },
   "file_extension": ".py",
   "mimetype": "text/x-python",
   "name": "python",
   "nbconvert_exporter": "python",
   "pygments_lexer": "ipython3",
   "version": "3.6.3"
  },
  "toc": {
   "base_numbering": 1,
   "nav_menu": {},
   "number_sections": false,
   "sideBar": true,
   "skip_h1_title": false,
   "title_cell": "Table of Contents",
   "title_sidebar": "Contents",
   "toc_cell": false,
   "toc_position": {},
   "toc_section_display": true,
   "toc_window_display": true
  }
 },
 "nbformat": 4,
 "nbformat_minor": 4
}
