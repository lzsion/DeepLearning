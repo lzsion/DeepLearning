{
 "cells": [
  {
   "cell_type": "markdown",
   "metadata": {},
   "source": [
    "# ***课程1_第2周_测验题***"
   ]
  },
  {
   "cell_type": "markdown",
   "metadata": {},
   "source": [
    "# 第一题"
   ]
  },
  {
   "cell_type": "markdown",
   "metadata": {},
   "source": [
    "1.神经元计算什么？\n",
    "\n",
    "A. 【  】神经元计算激活函数后，再计算线性函数（z=Wx+b）\n",
    "\n",
    "B. 【  】神经元计算一个线性函数（z=Wx+b），然后接一个激活函数\n",
    "\n",
    "C. 【  】神经元计算一个函数g，它线性地缩放输入x（Wx+b）\n",
    "\n",
    "D. 【  】神经元先计算所有特征的平均值，然后将激活函数应用于输出"
   ]
  },
  {
   "cell_type": "markdown",
   "metadata": {},
   "source": [
    "答案：  \n",
    "\n",
    "B.【 √ 】神经元计算一个线性函数（z=Wx+b），然后接一个激活函数"
   ]
  },
  {
   "cell_type": "markdown",
   "metadata": {},
   "source": [
    "# 第二题"
   ]
  },
  {
   "cell_type": "markdown",
   "metadata": {},
   "source": [
    "2.以下哪一个是逻辑回归的损失函数？\n",
    "\n",
    "A. 【  】$L^{(i)}(\\hat{y}^{(i)},y^{(i)})=|y^{(i)} - \\hat{y}^{(i)}|$\n",
    "\n",
    "B. 【  】$L^{(i)}(\\hat{y}^{(i)},y^{(i)})=max(0,y^{(i)} - \\hat{y}^{(i)})$\n",
    "\n",
    "C. 【  】$L^{(i)}(\\hat{y}^{(i)},y^{(i)})=|y^{(i)} - \\hat{y}^{(i)}|^2$\n",
    "\n",
    "D. 【  】$L^{(i)}(\\hat{y}^{(i)},y^{(i)})=-(y^{(i)}log(\\hat{y}^{(i)})+(1-y^{(i)})log(1-\\hat{y}^{(i)}))$"
   ]
  },
  {
   "cell_type": "markdown",
   "metadata": {},
   "source": [
    "答案：  \n",
    "\n",
    "D.【 √ 】$L^{(i)}(\\hat{y}^{(i)},y^{(i)})=-(y^{(i)}log(\\hat{y}^{(i)})+(1-y^{(i)})log(1-\\hat{y}^{(i)}))$"
   ]
  },
  {
   "cell_type": "markdown",
   "metadata": {},
   "source": [
    "# 第三题"
   ]
  },
  {
   "cell_type": "markdown",
   "metadata": {},
   "source": [
    "3.假设img是一个（32, 32, 3）数组，表示一个32x32图像，它有三个颜色通道：红色、绿色和蓝色。如何将其重塑为列向量？\n",
    "\n",
    "A. 【  】x = img.reshape((1, 32 * 32, 3))\n",
    "\n",
    "B. 【  】x = img.reshape((32 * 32 * 3, 1))\n",
    "\n",
    "C. 【  】x = img.reshape((3, 32 * 32))\n",
    "\n",
    "D. 【  】x = img.reshape((32 * 32, 3))"
   ]
  },
  {
   "cell_type": "markdown",
   "metadata": {},
   "source": [
    "答案：  \n",
    "\n",
    "B.【 √ 】x = img.reshape((32 * 32 * 3, 1))"
   ]
  },
  {
   "cell_type": "markdown",
   "metadata": {},
   "source": [
    "# 第四题"
   ]
  },
  {
   "cell_type": "markdown",
   "metadata": {},
   "source": [
    "4.考虑以下两个随机数组a和b：\n",
    "\n",
    "a = np.random.randn(2, 3) # a.shape = (2, 3)  \n",
    "b = np.random.randn(2, 1) # b.shape = (2, 1)  \n",
    "c = a + b\n",
    "\n",
    "c的维度是什么？"
   ]
  },
  {
   "cell_type": "markdown",
   "metadata": {},
   "source": [
    "A. 【  】c.shape = (3, 2)\n",
    "\n",
    "B. 【  】c.shape = (2, 1)\n",
    "\n",
    "C. 【  】c.shape = (2, 3)\n",
    "\n",
    "D. 【  】计算不成立因为这两个矩阵维度不匹配"
   ]
  },
  {
   "cell_type": "markdown",
   "metadata": {},
   "source": [
    "答案：  \n",
    "\n",
    "C.【 √ 】c.shape = (2, 3)"
   ]
  },
  {
   "cell_type": "markdown",
   "metadata": {},
   "source": [
    "# 第五题"
   ]
  },
  {
   "cell_type": "markdown",
   "metadata": {},
   "source": [
    "5.考虑以下两个随机数组a和b：\n",
    "\n",
    "a = np.random.randn(4, 3) # a.shape = (4, 3)  \n",
    "b = np.random.randn(3, 2) # b.shape = (3, 2)  \n",
    "c = a * b\n",
    "\n",
    "c的维度是什么？\n",
    "\n",
    "A. 【  】c.shape = (4, 3)\n",
    "\n",
    "B. 【  】c.shape = (3, 3)\n",
    "\n",
    "C. 【  】c.shape = (4, 2)\n",
    "\n",
    "D. 【  】计算不成立因为这两个矩阵维度不匹配"
   ]
  },
  {
   "cell_type": "markdown",
   "metadata": {},
   "source": [
    "答案：  \n",
    "\n",
    "D.【 √ 】计算不成立因为这两个矩阵维度不匹配\n",
    "\n",
    "Note：运算符 “*” 说明了按元素乘法来相乘，但是元素乘法需要两个矩阵之间的维数相同，所以这将报错，无法计算。"
   ]
  },
  {
   "cell_type": "markdown",
   "metadata": {},
   "source": [
    "# 第六题"
   ]
  },
  {
   "cell_type": "markdown",
   "metadata": {},
   "source": [
    "6.假设每个示例有$n_x$个输入特性，$X=[X^{(1)}，X^{(2)}…,X^{(m)}]$。$X$的维数是多少？\n",
    "\n",
    "A. 【  】(m, 1)\n",
    "\n",
    "B. 【  】(1, m)\n",
    "\n",
    "C. 【  】($n_x$, m)\n",
    "\n",
    "D. 【  】(m, $n_x$)"
   ]
  },
  {
   "cell_type": "markdown",
   "metadata": {},
   "source": [
    "答案：  \n",
    "\n",
    "C.【 √ 】($n_x$, m)"
   ]
  },
  {
   "cell_type": "markdown",
   "metadata": {},
   "source": [
    "# 第七题"
   ]
  },
  {
   "cell_type": "markdown",
   "metadata": {},
   "source": [
    "7.np.dot(a，b)对a和b的进行矩阵乘法，而a * b执行元素的乘法，考虑以下两个随机数组a和b：\n",
    "\n",
    "a = np.random.randn(12288, 150) # a.shape = (12288, 150)  \n",
    "b = np.random.randn(150, 45) # b.shape = (150, 45)  \n",
    "c = np.dot(a, b)\n",
    "\n",
    "c的维度是什么？\n",
    "\n",
    "A. 【  】c.shape = (12288, 150)\n",
    "\n",
    "B. 【  】c.shape = (150, 150)\n",
    "\n",
    "C. 【  】c.shape = (12288, 45)\n",
    "\n",
    "D. 【  】计算不成立因为这两个矩阵维度不匹配"
   ]
  },
  {
   "cell_type": "markdown",
   "metadata": {},
   "source": [
    "答案：  \n",
    "\n",
    "C.【 √ 】c.shape = (12288, 45)"
   ]
  },
  {
   "cell_type": "markdown",
   "metadata": {},
   "source": [
    "# 第八题"
   ]
  },
  {
   "cell_type": "markdown",
   "metadata": {},
   "source": [
    "8.请考虑以下代码段："
   ]
  },
  {
   "cell_type": "code",
   "execution_count": null,
   "metadata": {},
   "outputs": [],
   "source": [
    "#a.shape = (3,4)  \n",
    "#b.shape = (4,1)  \n",
    "for i in range(3):  \n",
    "  for j in range(4):  \n",
    "    c[i][j] = a[i][j] + b[j]"
   ]
  },
  {
   "cell_type": "markdown",
   "metadata": {},
   "source": [
    "如何将之矢量化？\n",
    "\n",
    "A. 【  】c = a + d\n",
    "\n",
    "B. 【  】c = a +b.T\n",
    "\n",
    "C. 【  】c = a.T + b.T\n",
    "\n",
    "D. 【  】c = a.T + b"
   ]
  },
  {
   "cell_type": "markdown",
   "metadata": {},
   "source": [
    "答案：  \n",
    "\n",
    "B.【 √ 】c = a +b.T\n",
    "\n",
    "Note：a的每一行元素，逐行相加b的每一行元素"
   ]
  },
  {
   "cell_type": "markdown",
   "metadata": {},
   "source": [
    "# 第九题"
   ]
  },
  {
   "cell_type": "markdown",
   "metadata": {},
   "source": [
    "9.请考虑以下代码段：\n",
    "\n",
    "a = np.random.randn(3, 3)  \n",
    "b = np.random.randn(3, 1)  \n",
    "c = a * b\n",
    "\n",
    "c的维度是什么？\n",
    "\n",
    "A. 【  】这会触发广播机制，b会被复制3次变成(3, 3)，而 * 操作是元素乘法，所以c.shape = (3, 3)\n",
    "\n",
    "B. 【  】这会触发广播机制，b会被复制3次变成(3, 3)，而 * 操作是矩阵乘法，所以c.shape = (3, 3)\n",
    "\n",
    "C. 【  】这个操作将一个3x3矩阵乘以一个3x1的向量，所以c.shape = (3, 1)\n",
    "\n",
    "D. 【  】这个操作会报错，因为你不能用 * 对这两个矩阵进行操作，你应该用np.dot(a, b)"
   ]
  },
  {
   "cell_type": "markdown",
   "metadata": {},
   "source": [
    "答案：  \n",
    "\n",
    "A.【 √ 】这会触发广播机制，b会被复制3次变成(3,3)，而 * 操作是元素乘法，所以c.shape = (3, 3)"
   ]
  },
  {
   "cell_type": "markdown",
   "metadata": {},
   "source": [
    "# 第十题"
   ]
  },
  {
   "attachments": {
    "image.png": {
     "image/png": "[encoded data removed]"
    }
   },
   "cell_type": "markdown",
   "metadata": {},
   "source": [
    "10.请考虑以下计算图：\n",
    "\n",
    "![image.png](attachment:image.png)\n",
    "\n",
    "输出J是？\n",
    "\n",
    "A. 【  】J = (c - 1) * (b + a)\n",
    "\n",
    "B. 【  】J = (a - 1) * (b + c)\n",
    "\n",
    "C. 【  】J = a * b + b * c + a * c\n",
    "\n",
    "D. 【  】J = (b - 1) * (c + a)"
   ]
  },
  {
   "cell_type": "markdown",
   "metadata": {},
   "source": [
    "答案：  \n",
    "\n",
    "B.【 √ 】J = (a - 1) * (b + c)"
   ]
  }
 ],
 "metadata": {
  "kernelspec": {
   "display_name": "Python 3.6.3",
   "language": "python",
   "name": "python3.6.3"
  },
  "language_info": {
   "codemirror_mode": {
    "name": "ipython",
    "version": 3
   },
   "file_extension": ".py",
   "mimetype": "text/x-python",
   "name": "python",
   "nbconvert_exporter": "python",
   "pygments_lexer": "ipython3",
   "version": "3.6.3"
  },
  "toc": {
   "base_numbering": 1,
   "nav_menu": {},
   "number_sections": false,
   "sideBar": true,
   "skip_h1_title": false,
   "title_cell": "Table of Contents",
   "title_sidebar": "Contents",
   "toc_cell": false,
   "toc_position": {
    "height": "calc(100% - 180px)",
    "left": "10px",
    "top": "150px",
    "width": "357.344px"
   },
   "toc_section_display": true,
   "toc_window_display": true
  }
 },
 "nbformat": 4,
 "nbformat_minor": 4
}
