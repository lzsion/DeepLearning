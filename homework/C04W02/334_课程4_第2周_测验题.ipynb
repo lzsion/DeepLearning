{
 "cells": [
  {
   "cell_type": "markdown",
   "metadata": {},
   "source": [
    "# ***课程4_第2周_测验题***"
   ]
  },
  {
   "cell_type": "markdown",
   "metadata": {},
   "source": [
    "# 第一题"
   ]
  },
  {
   "cell_type": "markdown",
   "metadata": {},
   "source": [
    "1.在典型的卷积神经网络中，随着网络的深度增加，你能看到的现象是？\n",
    "\n",
    "A. 【  】$n_H$和$n_W$增加，同时$n_C$减少\n",
    "\n",
    "B. 【  】$n_H$和$n_W$减少，同时$n_C$也减少\n",
    "\n",
    "C. 【  】$n_H$和$n_W$增加，同时$n_C$也增加\n",
    "\n",
    "D. 【  】$n_H$和$n_W$减少，同时$n_C$增加"
   ]
  },
  {
   "cell_type": "markdown",
   "metadata": {},
   "source": [
    "答案：  \n",
    "\n",
    "D.【 √ 】$n_H$和$n_W$减少，同时$n_C$增加"
   ]
  },
  {
   "cell_type": "markdown",
   "metadata": {},
   "source": [
    "# 第二题"
   ]
  },
  {
   "cell_type": "markdown",
   "metadata": {},
   "source": [
    "2.在典型的卷积神经网络中，你能看到的是？\n",
    "\n",
    "A. 【  】多个卷积层后面跟着的是一个池化层\n",
    "\n",
    "B. 【  】多个池化层后面跟着的是一个卷积层\n",
    "\n",
    "C. 【  】全连接层（FC）位于最后的几层\n",
    "\n",
    "D. 【  】全连接层（FC）位于开始的几层"
   ]
  },
  {
   "cell_type": "markdown",
   "metadata": {},
   "source": [
    "答案：  \n",
    "\n",
    "A.【 √ 】多个卷积层后面跟着的是一个池化层\n",
    "\n",
    "C.【 √ 】全连接层（FC）位于最后的几层"
   ]
  },
  {
   "cell_type": "markdown",
   "metadata": {},
   "source": [
    "# 第三题"
   ]
  },
  {
   "cell_type": "markdown",
   "metadata": {},
   "source": [
    "3.为了构建一个非常深的网络，我们经常在卷积层使用“valid”的填充，只使用池化层来缩小激活值的宽/高度，否则的话就会使得输入迅速的变小。\n",
    "\n",
    "A. 【  】对\n",
    "\n",
    "B. 【  】不对"
   ]
  },
  {
   "cell_type": "markdown",
   "metadata": {},
   "source": [
    "答案：  \n",
    "\n",
    "B.【 √ 】不对"
   ]
  },
  {
   "cell_type": "markdown",
   "metadata": {},
   "source": [
    "# 第四题 "
   ]
  },
  {
   "cell_type": "markdown",
   "metadata": {},
   "source": [
    "4.训练更深层的网络（例如，在网络中添加额外的层）可以使网络适应更复杂的功能，因此几乎总是会导致更低的训练错误。对于这个问题，假设是指“普通”网络。\n",
    "\n",
    "A. 【  】对\n",
    "\n",
    "B. 【  】不对"
   ]
  },
  {
   "cell_type": "markdown",
   "metadata": {},
   "source": [
    "答案：  \n",
    "\n",
    "B.【 √ 】不对"
   ]
  },
  {
   "cell_type": "markdown",
   "metadata": {},
   "source": [
    "# 第五题"
   ]
  },
  {
   "cell_type": "markdown",
   "metadata": {},
   "source": [
    "5.下面计算残差(ResNet)块的公式中，横线上应该分别填什么？\n",
    "\n",
    "$$a^{[l+2]}=g(W^{[l+2]}g(W^{[l+1]}+b^{[l+1]})+b^{[l+2]}+\\_\\_?\\_\\_)+\\_\\_?\\_\\_)$$\n",
    "\n",
    "A. 【  】分别是$0$与$z^{[l+1]}$\n",
    "\n",
    "B. 【  】分别是$a^{[l]}$与$0$\n",
    "\n",
    "C. 【  】分别是$z^{[l]}$与$a^{[l]}$\n",
    "\n",
    "D. 【  】分别是$0$与$a^{[l]}$ "
   ]
  },
  {
   "cell_type": "markdown",
   "metadata": {},
   "source": [
    "答案：  \n",
    "\n",
    "B.【 √ 】分别是$a^{[l]}$与$0$\n",
    "\n",
    "公式推导：\n",
    "\\begin{align}\n",
    "a^{[l+2]} \n",
    "&= g(z^{[l+2]} + a^{[l]})\\tag{1.0} \\\\\n",
    "&= g(W^{[l+2]}  \\times a^{[l+1]}  + b^{[l+2]} + a^{[l]}) \\tag{1.1}\\\\\n",
    "&= g(W^{[l+2]} \\times g(z^{[l+1]}) + b^{[l+2]} + a^{[l]}) \\tag{1.2}\\\\\n",
    "&= g(W^{[l+2]} \\times g(W^{[l+1]}\\times a^{[l]}   + b^{[l+1]}) +  b^{[l+2]} + \\underline{\\quad a^{[l]} \\quad}) +  \\underline{\\quad 0 \\quad} \\tag{1.3} \\\\\n",
    "\\end{align}"
   ]
  },
  {
   "cell_type": "markdown",
   "metadata": {},
   "source": [
    "# 第六题"
   ]
  },
  {
   "cell_type": "markdown",
   "metadata": {},
   "source": [
    "6.关于残差网络下面哪个（些）说法是正确的？\n",
    "\n",
    "A. 【  】使用跳越连接能够对反向传播的梯度下降有益，且能够帮你对更深的网络进行训练\n",
    "\n",
    "B. 【  】跳跃连接计算输入的复杂的非线性函数以传递到网络中的更深层\n",
    "\n",
    "C. 【  】有L层的残差网络一共有$L^2$种跳跃连接的顺序\n",
    "\n",
    "D. 【  】跳跃连接能够使得网络轻松地学习残差块类的输入输出间的身份映射"
   ]
  },
  {
   "cell_type": "markdown",
   "metadata": {},
   "source": [
    "答案：  \n",
    "\n",
    "A.【 √ 】使用跳越连接能够对反向传播的梯度下降有益，且能够帮你对更深的网络进行训练\n",
    "\n",
    "D.【 √ 】跳跃连接能够使得网络轻松地学习残差块类的输入输出间的身份映射"
   ]
  },
  {
   "cell_type": "markdown",
   "metadata": {},
   "source": [
    "# 第七题"
   ]
  },
  {
   "cell_type": "markdown",
   "metadata": {},
   "source": [
    "7.假设你的输入的维度为64x64x16，单个1x1的卷积过滤器含有多少个参数（包括偏差）？\n",
    "\n",
    "A. 【  】2\n",
    "\n",
    "B. 【  】17\n",
    "\n",
    "C. 【  】4097\n",
    "\n",
    "D. 【  】1"
   ]
  },
  {
   "cell_type": "markdown",
   "metadata": {},
   "source": [
    "答案：  \n",
    "\n",
    "B.【 √ 】17"
   ]
  },
  {
   "cell_type": "markdown",
   "metadata": {},
   "source": [
    "# 第八题"
   ]
  },
  {
   "cell_type": "markdown",
   "metadata": {},
   "source": [
    "8.假设你有一个维度为$n_H×n_W×n_C$的卷积输入，下面哪个说法是正确的（假设卷积层为1x1，步长为1，padding为0）？\n",
    "\n",
    "A. 【  】你能够使用1x1的卷积层来减少$n_C$，但是不能减少$n_H,n_W$\n",
    "\n",
    "B. 【  】你可以使用池化层减少$n_H,n_W$，但是不能减少$n_C$\n",
    "\n",
    "C. 【  】你可以使用一个1x1的卷积层来减少$n_H,n_W$和$n_C$\n",
    "\n",
    "D. 【  】你可以使用池化层减少$n_H,n_W$和$n_C$"
   ]
  },
  {
   "cell_type": "markdown",
   "metadata": {},
   "source": [
    "答案：  \n",
    "\n",
    "A.【 √ 】你能够使用1x1的卷积层来减少$n_C$，但是不能减少$n_H,n_W$\n",
    "\n",
    "B.【 √ 】你可以使用池化层减少$n_H,n_W$，但是不能减少$n_C$"
   ]
  },
  {
   "cell_type": "markdown",
   "metadata": {},
   "source": [
    "# 第九题"
   ]
  },
  {
   "cell_type": "markdown",
   "metadata": {},
   "source": [
    "9.关于 Inception 网络下面哪些说法是正确的\n",
    "\n",
    "A. 【  】Inception 网络包含了各种网络的体系结构（类似于随机删除节点模式，它会在每一步中随机选择网络的结构），因此它具有随机删除节点的正则化效应。\n",
    "\n",
    "B. 【  】Inception 块通常使用1x1的卷积来减少输入卷积的大小，然后再使用3x3和5x5的卷积。\n",
    "\n",
    "C. 【  】一个inception 块允许网络使用1x1, 3x3, 5x5 的和卷积个池化层的组合。\n",
    "\n",
    "D. 【  】通过叠加inception块的方式让inception网络更深，不会损害训练集的表现。"
   ]
  },
  {
   "cell_type": "markdown",
   "metadata": {},
   "source": [
    "答案：  \n",
    "\n",
    "B.【 √ 】Inception 块通常使用1x1的卷积来减少输入卷积的大小，然后再使用3x3和5x5的卷积。\n",
    "\n",
    "C.【 √ 】一个inception 块允许网络使用1x1, 3x3, 5x5 的和卷积个池化层的组合。"
   ]
  },
  {
   "cell_type": "markdown",
   "metadata": {},
   "source": [
    "# 第十题"
   ]
  },
  {
   "cell_type": "markdown",
   "metadata": {},
   "source": [
    "10.下面哪些是使用卷积网络的开源实现（包含模型/权值）的常见原因？\n",
    "\n",
    "A. 【  】为一个计算机视觉任务训练的模型通常可以用来数据扩充，即使对于不同的计算机视觉任务也是如此。\n",
    "\n",
    "B. 【  】为一个计算机视觉任务训练的参数通常对其他计算机视觉任务的预训练是有用的。\n",
    "\n",
    "C. 【  】使用获得计算机视觉竞赛奖项的相同的技术，广泛应用于实际部署。\n",
    "\n",
    "D. 【  】使用开源实现可以很简单的来实现复杂的卷积结构。"
   ]
  },
  {
   "cell_type": "markdown",
   "metadata": {},
   "source": [
    "答案：  \n",
    "\n",
    "B.【 √ 】为一个计算机视觉任务训练的参数通常对其他计算机视觉任务的预训练是有用的。\n",
    "\n",
    "D.【 √ 】使用开源实现可以很简单的来实现复杂的卷积结构。"
   ]
  }
 ],
 "metadata": {
  "kernelspec": {
   "display_name": "Python 3.6.3",
   "language": "python",
   "name": "python3.6.3"
  },
  "language_info": {
   "codemirror_mode": {
    "name": "ipython",
    "version": 3
   },
   "file_extension": ".py",
   "mimetype": "text/x-python",
   "name": "python",
   "nbconvert_exporter": "python",
   "pygments_lexer": "ipython3",
   "version": "3.6.3"
  },
  "toc": {
   "base_numbering": 1,
   "nav_menu": {},
   "number_sections": false,
   "sideBar": true,
   "skip_h1_title": false,
   "title_cell": "Table of Contents",
   "title_sidebar": "Contents",
   "toc_cell": false,
   "toc_position": {},
   "toc_section_display": true,
   "toc_window_display": true
  }
 },
 "nbformat": 4,
 "nbformat_minor": 4
}
