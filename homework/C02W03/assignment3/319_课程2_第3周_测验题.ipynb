{
 "cells": [
  {
   "cell_type": "markdown",
   "metadata": {},
   "source": [
    "# ***课程2_第3周_测验题***"
   ]
  },
  {
   "cell_type": "markdown",
   "metadata": {},
   "source": [
    "# 第一题"
   ]
  },
  {
   "cell_type": "markdown",
   "metadata": {},
   "source": [
    "1.如果在大量的超参数中搜索最佳的参数值，那么应该尝试在网格中搜索而不是使用随机值，以便更系统的搜索，而不是依靠运气，请问这句话是正确的吗？\n",
    "\n",
    "A. 【  】对\n",
    "\n",
    "B. 【  】不对"
   ]
  },
  {
   "cell_type": "markdown",
   "metadata": {},
   "source": [
    "答案：  \n",
    "\n",
    "B.【 √ 】不对"
   ]
  },
  {
   "cell_type": "markdown",
   "metadata": {},
   "source": [
    "# 第二题"
   ]
  },
  {
   "cell_type": "markdown",
   "metadata": {},
   "source": [
    "2.每个超参数如果设置得不好，都会对训练产生巨大的负面影响，因此所有的超参数都要调整好，请问这是正确的吗？\n",
    "\n",
    "A. 【  】对\n",
    "\n",
    "B. 【  】不对"
   ]
  },
  {
   "cell_type": "markdown",
   "metadata": {},
   "source": [
    "答案：  \n",
    "\n",
    "B.【 √ 】不对  "
   ]
  },
  {
   "cell_type": "markdown",
   "metadata": {},
   "source": [
    "# 第三题"
   ]
  },
  {
   "cell_type": "markdown",
   "metadata": {},
   "source": [
    "3.在超参数搜索过程中，你尝试只照顾一个模型（使用熊猫策略）还是一起训练大量的模型（鱼子酱策略）在很大程度上取决于：\n",
    "\n",
    "A. 【  】是否使用批量（batch）或小批量优化（mini-batch optimization）\n",
    "\n",
    "B. 【  】神经网络中局部最小值（鞍点）的存在性\n",
    "\n",
    "C. 【  】在你能力范围内，你能够拥有多大的计算能力（注：就是高性能电脑和低性能电脑的区别）\n",
    "\n",
    "D. 【  】需要调整的超参数的数量"
   ]
  },
  {
   "cell_type": "markdown",
   "metadata": {},
   "source": [
    "答案：  \n",
    "\n",
    "C.【 √ 】在你能力范围内，你能够拥有多大的计算能力（注：就是高性能电脑和低性能电脑的区别）"
   ]
  },
  {
   "cell_type": "markdown",
   "metadata": {},
   "source": [
    "# 第四题"
   ]
  },
  {
   "cell_type": "markdown",
   "metadata": {},
   "source": [
    "4.如果您认为$\\beta$（动量超参数）介于0.9和0.99之间，那么推荐采用以下哪一种方法来对$\\beta$值进行取样？\n",
    "\n",
    "A. 【  】\n",
    "\n",
    "r = np.random.rand()  \n",
    "beta = r * 0.09 + 0.9\n",
    "\n",
    "B. 【  】\n",
    "\n",
    "r = np.random.rand()  \n",
    "beta = 1 - 10 ** ( - r - 1 )\n",
    "\n",
    "C. 【  】\n",
    "\n",
    "r = np.random.rand()  \n",
    "beta = 1 - 10 ** ( - r + 1 )\n",
    "\n",
    "D. 【  】\n",
    "\n",
    "r = np.random.rand()  \n",
    "beta = r * 0.9 + 0.09"
   ]
  },
  {
   "cell_type": "markdown",
   "metadata": {},
   "source": [
    "答案：  \n",
    "\n",
    "B.【 √ 】\n",
    "\n",
    "r = np.random.rand()  \n",
    "beta = 1 - 10 ** ( - r - 1 )"
   ]
  },
  {
   "cell_type": "markdown",
   "metadata": {},
   "source": [
    "# 第五题"
   ]
  },
  {
   "cell_type": "markdown",
   "metadata": {},
   "source": [
    "5.找到好的超参数的值是非常耗时的，所以通常情况下你应该在项目开始时做一次，并尝试找到非常好的超参数，这样你就不必再次重新调整它们。请问这正确吗？\n",
    "\n",
    "A. 【  】对\n",
    "\n",
    "B. 【  】不对"
   ]
  },
  {
   "cell_type": "markdown",
   "metadata": {},
   "source": [
    "答案：  \n",
    "\n",
    "B.【 √ 】不对"
   ]
  },
  {
   "cell_type": "markdown",
   "metadata": {},
   "source": [
    "# 第六题"
   ]
  },
  {
   "cell_type": "markdown",
   "metadata": {},
   "source": [
    "6.在视频中介绍的批量标准化中，如果将其应用于神经网络的第l层，您应该对谁进行标准化？\n",
    "\n",
    "A. 【  】$z^{[l]}$\n",
    "\n",
    "B. 【  】$W^{[l]}$\n",
    "\n",
    "C. 【  】$b^{[l]}$\n",
    "\n",
    "D. 【  】$b^{[l]}$"
   ]
  },
  {
   "cell_type": "markdown",
   "metadata": {},
   "source": [
    "答案：  \n",
    "\n",
    "A.【 √ 】$z^{[l]}$"
   ]
  },
  {
   "cell_type": "markdown",
   "metadata": {},
   "source": [
    "# 第七题"
   ]
  },
  {
   "cell_type": "markdown",
   "metadata": {},
   "source": [
    "7.在标准化公式$z^{(i)}_{norm}=\\frac{z^{(i)}-\\mu}{\\sqrt{\\sigma^2+\\epsilon}}$，为什么要使用epsilon（ϵ）？\n",
    "\n",
    "A. 【  】为了更准确地标准化\n",
    "\n",
    "B. 【  】为了避免除零操作\n",
    "\n",
    "C. 【  】为了加速收敛\n",
    "\n",
    "D. 【  】防止$\\mu$太小"
   ]
  },
  {
   "cell_type": "markdown",
   "metadata": {},
   "source": [
    "答案：  \n",
    "\n",
    "B.【 √ 】为了避免除零操作"
   ]
  },
  {
   "cell_type": "markdown",
   "metadata": {},
   "source": [
    "# 第八题"
   ]
  },
  {
   "cell_type": "markdown",
   "metadata": {},
   "source": [
    "8.批标准化中关于$\\gamma$和$\\beta$的以下哪些陈述是正确的？\n",
    "\n",
    "A. 【  】对于每个层，有一个全局值$\\gamma \\in \\mathbb{R}$和一个全局值$\\beta \\in \\mathbb{R}$，适用于于该层中的所有隐藏单元。\n",
    "\n",
    "B. 【  】$\\gamma$和$\\beta$是算法的超参数，我们通过随机采样进行调整\n",
    "\n",
    "C. 【  】它们确定了给定层的线性变量$z^{[l]}$的均值和方差\n",
    "\n",
    "D. 【  】最佳值是$\\gamma=\\sqrt{\\sigma^2+\\epsilon},\\beta=\\mu$\n",
    "\n",
    "E. 【  】它们可以用Adam、动量的梯度下降或RMSprop，而不仅仅是用梯度下降来学习"
   ]
  },
  {
   "cell_type": "markdown",
   "metadata": {},
   "source": [
    "答案：  \n",
    "\n",
    "C.【 √ 】它们确定了给定层的线性变量$z^{[l]}$的均值和方差\n",
    "\n",
    "E.【 √ 】它们可以用Adam、动量的梯度下降或RMSprop，而不仅仅是用梯度下降来学习"
   ]
  },
  {
   "cell_type": "markdown",
   "metadata": {},
   "source": [
    "# 第九题"
   ]
  },
  {
   "cell_type": "markdown",
   "metadata": {},
   "source": [
    "9.在训练了具有批标准化的神经网络之后，在用新样本评估神经网络的时候，您应该：\n",
    "\n",
    "A. 【  】如果你在256个例子的mini-batch上实现了批标准化，那么如果你要在一个测试例子上进行评估，你应该将这个例子重复256次，这样你就可以使用和训练时大小相同的mini-batch进行预测。\n",
    "\n",
    "B. 【  】使用最新的mini-batch的$\\mu$和$\\sigma^2$值来执行所需的标准化\n",
    "\n",
    "C. 【  】跳过用$\\mu$和$\\sigma^2$值标准化的步骤，因为一个例子不需要标准化\n",
    "\n",
    "D. 【  】执行所需的标准化，使用在训练期间，通过指数加权平均值得出的$\\mu$和$\\sigma^2$"
   ]
  },
  {
   "cell_type": "markdown",
   "metadata": {},
   "source": [
    "答案：  \n",
    "\n",
    "D.【 √ 】执行所需的标准化，使用在训练期间，通过指数加权平均值得出的$\\mu$和$\\sigma^2$"
   ]
  },
  {
   "cell_type": "markdown",
   "metadata": {},
   "source": [
    "# 第十题"
   ]
  },
  {
   "cell_type": "markdown",
   "metadata": {},
   "source": [
    "10.关于深度学习编程框架的这些陈述中，哪一个是正确的？（选出所有正确项）\n",
    "\n",
    "A. 【  】即使一个项目目前是开源的，项目的良好管理有助于确保它即使在长期内仍然保持开放，而不是仅仅为了一个公司而关闭或修改。\n",
    "\n",
    "B. 【  】通过编程框架，您可以使用比低级语言（如Python）更少的代码来编写深度学习算法。\n",
    "\n",
    "C. 【  】深度学习编程框架的运行需要基于云的机器。"
   ]
  },
  {
   "cell_type": "markdown",
   "metadata": {},
   "source": [
    "答案：  \n",
    "\n",
    "A.【 √ 】即使一个项目目前是开源的，项目的良好管理有助于确保它即使在长期内仍然保持开放，而不是仅仅为了一个公司而关闭或修改。\n",
    "\n",
    "B.【 √ 】通过编程框架，您可以使用比低级语言（如Python）更少的代码来编写深度学习算法。"
   ]
  }
 ],
 "metadata": {
  "kernelspec": {
   "display_name": "Python 3.6.3",
   "language": "python",
   "name": "python3.6.3"
  },
  "language_info": {
   "codemirror_mode": {
    "name": "ipython",
    "version": 3
   },
   "file_extension": ".py",
   "mimetype": "text/x-python",
   "name": "python",
   "nbconvert_exporter": "python",
   "pygments_lexer": "ipython3",
   "version": "3.6.3"
  },
  "toc": {
   "base_numbering": 1,
   "nav_menu": {},
   "number_sections": false,
   "sideBar": true,
   "skip_h1_title": false,
   "title_cell": "Table of Contents",
   "title_sidebar": "Contents",
   "toc_cell": false,
   "toc_position": {},
   "toc_section_display": true,
   "toc_window_display": true
  }
 },
 "nbformat": 4,
 "nbformat_minor": 4
}
