{
 "cells": [
  {
   "cell_type": "markdown",
   "metadata": {},
   "source": [
    "# ***课程2_第1周_测验题***"
   ]
  },
  {
   "cell_type": "markdown",
   "metadata": {},
   "source": [
    "# 第一题"
   ]
  },
  {
   "cell_type": "markdown",
   "metadata": {},
   "source": [
    "1.如果你有10,000,000个例子，你会如何划分训练/验证/测试集？\n",
    "\n",
    "A. 【  】33%训练，33%验证，33%测试\n",
    "\n",
    "B. 【  】60%训练，20%验证，20%测试\n",
    "\n",
    "C. 【  】98%训练，1%验证，20%测试"
   ]
  },
  {
   "cell_type": "markdown",
   "metadata": {},
   "source": [
    "答案：  \n",
    "\n",
    "C.【 √ 】98%训练，1%验证，20%测试"
   ]
  },
  {
   "cell_type": "markdown",
   "metadata": {},
   "source": [
    "# 第二题"
   ]
  },
  {
   "cell_type": "markdown",
   "metadata": {},
   "source": [
    "2.验证集和测试集应该：\n",
    "\n",
    "A. 【  】来自同一分布\n",
    "\n",
    "B. 【  】来自不同分布\n",
    "\n",
    "C. 【  】完全相同（一样的(x, y)对）\n",
    "\n",
    "D. 【  】数据数量应该相同"
   ]
  },
  {
   "cell_type": "markdown",
   "metadata": {},
   "source": [
    "答案：  \n",
    "\n",
    "A.【 √ 】来自同一分布"
   ]
  },
  {
   "cell_type": "markdown",
   "metadata": {},
   "source": [
    "# 第三题"
   ]
  },
  {
   "cell_type": "markdown",
   "metadata": {},
   "source": [
    "3.如果你的神经网络方差很高，下列哪个尝试是可能解决问题的？\n",
    "\n",
    "A. 【  】添加正则项\n",
    "\n",
    "B. 【  】获取更多测试数据\n",
    "\n",
    "C. 【  】增加每个隐藏层的神经元数量\n",
    "\n",
    "D. 【  】用更深的神经网络\n",
    "\n",
    "E. 【  】用更多的训练数据"
   ]
  },
  {
   "cell_type": "markdown",
   "metadata": {},
   "source": [
    "答案：  \n",
    "\n",
    "A.【 √ 】添加正则项\n",
    "\n",
    "E.【 √ 】用更多的训练数据"
   ]
  },
  {
   "cell_type": "markdown",
   "metadata": {},
   "source": [
    "# 第四题"
   ]
  },
  {
   "cell_type": "markdown",
   "metadata": {},
   "source": [
    "4.你正在为苹果，香蕉和橘子制作分类器。 假设您的分类器在训练集上有0.5％的错误，以及验证集上有7％的错误。 以下哪项尝试是有希望改善你的分类器的分类效果的？\n",
    "\n",
    "A. 【  】增大正则化参数$\\lambda$\n",
    "\n",
    "B. 【  】减小正则化参数$\\lambda$\n",
    "\n",
    "C. 【  】获取更多训练数据\n",
    "\n",
    "D. 【  】用更大的神经网络"
   ]
  },
  {
   "cell_type": "markdown",
   "metadata": {},
   "source": [
    "答案：  \n",
    "\n",
    "A.【 √ 】增大正则化参数$\\lambda$\n",
    "\n",
    "C.【 √ 】获取更多训练数据"
   ]
  },
  {
   "cell_type": "markdown",
   "metadata": {},
   "source": [
    "# 第五题"
   ]
  },
  {
   "cell_type": "markdown",
   "metadata": {},
   "source": [
    "5.什么是权重衰减？\n",
    "\n",
    "A. 【  】正则化技术（例如L2正则化）导致梯度下降在每次迭代时权重收缩\n",
    "\n",
    "B. 【  】在训练过程中逐渐降低学习率的过程\n",
    "\n",
    "C. 【  】如果神经网络是在噪声数据下训练的，那么神经网络的权值会逐渐损坏\n",
    "\n",
    "D. 【  】通过对权重值设置上限来避免梯度消失的技术"
   ]
  },
  {
   "cell_type": "markdown",
   "metadata": {},
   "source": [
    "答案：  \n",
    "\n",
    "A.【 √ 】正则化技术（例如L2正则化）导致梯度下降在每次迭代时权重收缩"
   ]
  },
  {
   "cell_type": "markdown",
   "metadata": {},
   "source": [
    "# 第六题"
   ]
  },
  {
   "cell_type": "markdown",
   "metadata": {},
   "source": [
    "6.当你增大正则化的超参数$\\lambda$时会发生什么？\n",
    "\n",
    "A. 【  】权重变小（接近0）\n",
    "\n",
    "B. 【  】权重变大（远离0）\n",
    "\n",
    "C. 【  】2倍的$\\lambda$导致2倍的权重\n",
    "\n",
    "D. 【  】每次迭代，梯度下降采取更大的步距（与$\\lambda$成正比）"
   ]
  },
  {
   "cell_type": "markdown",
   "metadata": {},
   "source": [
    "答案：  \n",
    "\n",
    "A.【 √ 】权重变小（接近0）"
   ]
  },
  {
   "cell_type": "markdown",
   "metadata": {},
   "source": [
    "# 第七题"
   ]
  },
  {
   "cell_type": "markdown",
   "metadata": {},
   "source": [
    "7.在测试时候使用dropout：\n",
    "\n",
    "A. 【  】不随机关闭神经元，但在训练中使用的计算中保留1 / keep_prob因子\n",
    "\n",
    "B. 【  】随机关闭神经元，在训练中使用的计算中保留1 / keep_prob因子\n",
    "\n",
    "C. 【  】随机关闭神经元，但不要在训练中使用的计算中保留1 / keep_prob因子\n",
    "\n",
    "D. 【  】不随机关闭神经元，也不要在训练中使用的计算中保留1 / keep_prob因子"
   ]
  },
  {
   "cell_type": "markdown",
   "metadata": {},
   "source": [
    "答案：  \n",
    "\n",
    "D.【 √ 】不随机关闭神经元，也不要在训练中使用的计算中保留1 / keep_prob因子"
   ]
  },
  {
   "cell_type": "markdown",
   "metadata": {},
   "source": [
    "# 第八题"
   ]
  },
  {
   "cell_type": "markdown",
   "metadata": {},
   "source": [
    "8.将参数keep_prob从（比如说）0.5增加到0.6可能会导致以下情况（选出所有正确项）：\n",
    "\n",
    "A. 【  】正则化效应被增强\n",
    "\n",
    "B. 【  】正则化效应被减弱\n",
    "\n",
    "C. 【  】训练集的误差会增加\n",
    "\n",
    "D. 【  】训练集的误差会减小"
   ]
  },
  {
   "cell_type": "markdown",
   "metadata": {},
   "source": [
    "答案：  \n",
    "\n",
    "B.【 √ 】正则化效应被减弱\n",
    "\n",
    "D.【 √ 】训练集的误差会减小 "
   ]
  },
  {
   "cell_type": "markdown",
   "metadata": {},
   "source": [
    "# 第九题"
   ]
  },
  {
   "cell_type": "markdown",
   "metadata": {},
   "source": [
    "9.以下哪些技术可用于减少方差（减少过拟合）？（选出所有正确项）\n",
    "\n",
    "A. 【  】梯度消失\n",
    "\n",
    "B. 【  】数据扩充\n",
    "\n",
    "C. 【  】Dropout\n",
    "\n",
    "D. 【  】梯度检查\n",
    "\n",
    "E. 【  】Xavier初始化\n",
    "\n",
    "F. 【  】L2正则化\n",
    "\n",
    "G. 【  】梯度爆炸"
   ]
  },
  {
   "cell_type": "markdown",
   "metadata": {},
   "source": [
    "答案：  \n",
    "\n",
    "B.【 √ 】数据扩充 \n",
    "\n",
    "C.【 √ 】Dropout\n",
    "\n",
    "F.【 √ 】L2正则化 "
   ]
  },
  {
   "cell_type": "markdown",
   "metadata": {},
   "source": [
    "# 第十题"
   ]
  },
  {
   "cell_type": "markdown",
   "metadata": {},
   "source": [
    "10.为什么要对输入$x$进行归一化？\n",
    "\n",
    "A. 【  】让参数初始化更快\n",
    "\n",
    "B. 【  】让代价函数更快地优化\n",
    "\n",
    "C. 【  】更容易做数据可视化\n",
    "\n",
    "D. 【  】是另一种正则化——有助减少方差"
   ]
  },
  {
   "cell_type": "markdown",
   "metadata": {},
   "source": [
    "答案：  \n",
    "\n",
    "B.【 √ 】让代价函数更快地优化"
   ]
  }
 ],
 "metadata": {
  "kernelspec": {
   "display_name": "Python 3.6.3",
   "language": "python",
   "name": "python3.6.3"
  },
  "language_info": {
   "codemirror_mode": {
    "name": "ipython",
    "version": 3
   },
   "file_extension": ".py",
   "mimetype": "text/x-python",
   "name": "python",
   "nbconvert_exporter": "python",
   "pygments_lexer": "ipython3",
   "version": "3.6.3"
  },
  "toc": {
   "base_numbering": 1,
   "nav_menu": {},
   "number_sections": false,
   "sideBar": true,
   "skip_h1_title": false,
   "title_cell": "Table of Contents",
   "title_sidebar": "Contents",
   "toc_cell": false,
   "toc_position": {},
   "toc_section_display": true,
   "toc_window_display": true
  }
 },
 "nbformat": 4,
 "nbformat_minor": 4
}
